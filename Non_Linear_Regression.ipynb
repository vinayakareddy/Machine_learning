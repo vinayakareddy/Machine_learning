{
  "nbformat": 4,
  "nbformat_minor": 0,
  "metadata": {
    "colab": {
      "name": "Non Linear Regression.ipynb",
      "provenance": [],
      "collapsed_sections": [],
      "authorship_tag": "ABX9TyPu4hsinjQSVVrw91/Qj4xc",
      "include_colab_link": true
    },
    "kernelspec": {
      "name": "python3",
      "display_name": "Python 3"
    }
  },
  "cells": [
    {
      "cell_type": "markdown",
      "metadata": {
        "id": "view-in-github",
        "colab_type": "text"
      },
      "source": [
        "<a href=\"https://colab.research.google.com/github/vinayakareddy/Machine_learning/blob/master/Non_Linear_Regression.ipynb\" target=\"_parent\"><img src=\"https://colab.research.google.com/assets/colab-badge.svg\" alt=\"Open In Colab\"/></a>"
      ]
    },
    {
      "cell_type": "code",
      "metadata": {
        "id": "QjMM3I8pfsrY",
        "colab_type": "code",
        "colab": {
          "base_uri": "https://localhost:8080/",
          "height": 122
        },
        "outputId": "4c65e74c-34fa-494a-c079-336a8fdca5d1"
      },
      "source": [
        "from google.colab import drive\n",
        "drive.mount('/content/drive')"
      ],
      "execution_count": 1,
      "outputs": [
        {
          "output_type": "stream",
          "text": [
            "Go to this URL in a browser: https://accounts.google.com/o/oauth2/auth?client_id=947318989803-6bn6qk8qdgf4n4g3pfee6491hc0brc4i.apps.googleusercontent.com&redirect_uri=urn%3aietf%3awg%3aoauth%3a2.0%3aoob&response_type=code&scope=email%20https%3a%2f%2fwww.googleapis.com%2fauth%2fdocs.test%20https%3a%2f%2fwww.googleapis.com%2fauth%2fdrive%20https%3a%2f%2fwww.googleapis.com%2fauth%2fdrive.photos.readonly%20https%3a%2f%2fwww.googleapis.com%2fauth%2fpeopleapi.readonly\n",
            "\n",
            "Enter your authorization code:\n",
            "··········\n",
            "Mounted at /content/drive\n"
          ],
          "name": "stdout"
        }
      ]
    },
    {
      "cell_type": "code",
      "metadata": {
        "id": "eIDcWI7yf_s7",
        "colab_type": "code",
        "colab": {}
      },
      "source": [
        "path = '/content/drive/My Drive/Colab Notebooks/'"
      ],
      "execution_count": 2,
      "outputs": []
    },
    {
      "cell_type": "markdown",
      "metadata": {
        "id": "Ie_Ll2CigKoY",
        "colab_type": "text"
      },
      "source": [
        "<h1><center>Non Linear Regression Analysis</center></h1>\n",
        "\n",
        "If the data shows a curvy trend, then linear regression will not produce very accurate results when compared to a non-linear regression because, as the name implies, linear regression presumes that the data is linear. \n",
        "In this notebook, we fit a non-linear model to the datapoints corrensponding to China's GDP from 1960 to 2014."
      ]
    },
    {
      "cell_type": "code",
      "metadata": {
        "id": "4B-1uvWygHYD",
        "colab_type": "code",
        "colab": {}
      },
      "source": [
        "import numpy as np\n",
        "import matplotlib.pyplot as plt\n",
        "%matplotlib inline"
      ],
      "execution_count": 3,
      "outputs": []
    },
    {
      "cell_type": "markdown",
      "metadata": {
        "id": "-u2reuCXgYFT",
        "colab_type": "text"
      },
      "source": [
        "Non-linear regressions are a relationship between independent variables $x$ and a dependent variable $y$ which result in a non-linear function modeled data. Essentially any relationship that is not linear can be termed as non-linear, and is usually represented by the polynomial of $k$ degrees (maximum power of $x$). \n",
        "\n",
        "$$ \\ y = a x^3 + b x^2 + c x + d \\ $$\n",
        "\n",
        "Non-linear functions can have elements like exponentials, logarithms, fractions, and others. For example: $$ y = \\log(x)$$\n",
        "    \n",
        "Or even, more complicated such as :\n",
        "$$ y = \\log(a x^3 + b x^2 + c x + d)$$"
      ]
    },
    {
      "cell_type": "code",
      "metadata": {
        "id": "co2QqBHxgWlh",
        "colab_type": "code",
        "colab": {
          "base_uri": "https://localhost:8080/",
          "height": 279
        },
        "outputId": "9ce4015c-9da8-400b-dfb0-a985baf345f7"
      },
      "source": [
        "x = np.arange(-5.0, 5.0, 0.1)\n",
        "\n",
        "##You can adjust the slope and intercept to verify the changes in the graph\n",
        "y = 1*(x**3) + 1*(x**2) + 1*x + 3\n",
        "y_noise = 20 * np.random.normal(size=x.size)\n",
        "ydata = y + y_noise\n",
        "plt.plot(x, ydata,  'bo')\n",
        "plt.plot(x,y, 'r') \n",
        "plt.ylabel('Dependent Variable')\n",
        "plt.xlabel('Indepdendent Variable')\n",
        "plt.show()"
      ],
      "execution_count": 5,
      "outputs": [
        {
          "output_type": "display_data",
          "data": {
            "image/png": "[encoded data removed]",
            "text/plain": [
              "<Figure size 432x288 with 1 Axes>"
            ]
          },
          "metadata": {
            "tags": [],
            "needs_background": "light"
          }
        }
      ]
    },
    {
      "cell_type": "markdown",
      "metadata": {
        "id": "Dc8_8aE_hKDn",
        "colab_type": "text"
      },
      "source": [
        "As you can see, this function has $x^3$ and $x^2$ as independent variables. Also, the graphic of this function is not a straight line over the 2D plane. So this is a non-linear function."
      ]
    },
    {
      "cell_type": "markdown",
      "metadata": {
        "id": "ET00NbvlhZLd",
        "colab_type": "text"
      },
      "source": [
        "### Quadratic\n",
        "\n",
        "Quadratic\n",
        "$$ Y = X^2 $$\n"
      ]
    },
    {
      "cell_type": "code",
      "metadata": {
        "id": "D51SN86ogujn",
        "colab_type": "code",
        "colab": {
          "base_uri": "https://localhost:8080/",
          "height": 279
        },
        "outputId": "6b123da5-0b6c-472b-e440-1fe128e57dda"
      },
      "source": [
        "x = np.arange(-5.0, 5.0, 0.1)\n",
        "\n",
        "##You can adjust the slope and intercept to verify the changes in the graph\n",
        "\n",
        "y = np.power(x,2)\n",
        "y_noise = 2 * np.random.normal(size=x.size)\n",
        "ydata = y + y_noise\n",
        "plt.plot(x, ydata,  'bo')\n",
        "plt.plot(x,y, 'r') \n",
        "plt.ylabel('Dependent Variable')\n",
        "plt.xlabel('Indepdendent Variable')\n",
        "plt.show()"
      ],
      "execution_count": 6,
      "outputs": [
        {
          "output_type": "display_data",
          "data": {
            "image/png": "[encoded data removed]",
            "text/plain": [
              "<Figure size 432x288 with 1 Axes>"
            ]
          },
          "metadata": {
            "tags": [],
            "needs_background": "light"
          }
        }
      ]
    },
    {
      "cell_type": "markdown",
      "metadata": {
        "id": "oPCkrs4Fhhjx",
        "colab_type": "text"
      },
      "source": [
        "### Exponential\n",
        "\n",
        "An exponential function with base c is defined by $$ Y = a + b c^X$$ where b ≠0, c > 0 , c ≠1, and x is any real number. The base, c, is constant and the exponent, x, is a variable. \n",
        "\n"
      ]
    },
    {
      "cell_type": "code",
      "metadata": {
        "id": "EcEd12mehSuD",
        "colab_type": "code",
        "colab": {
          "base_uri": "https://localhost:8080/",
          "height": 282
        },
        "outputId": "577b4916-085e-4ea8-8405-9e557be43102"
      },
      "source": [
        "X = np.arange(-5.0, 5.0, 0.1)\n",
        "\n",
        "##You can adjust the slope and intercept to verify the changes in the graph\n",
        "\n",
        "Y= np.exp(X)\n",
        "\n",
        "plt.plot(X,Y) \n",
        "plt.ylabel('Dependent Variable')\n",
        "plt.xlabel('Indepdendent Variable')\n",
        "plt.show()"
      ],
      "execution_count": 7,
      "outputs": [
        {
          "output_type": "display_data",
          "data": {
            "image/png": "[encoded data removed]",
            "text/plain": [
              "<Figure size 432x288 with 1 Axes>"
            ]
          },
          "metadata": {
            "tags": [],
            "needs_background": "light"
          }
        }
      ]
    },
    {
      "cell_type": "markdown",
      "metadata": {
        "id": "rRBQcS_ihsS1",
        "colab_type": "text"
      },
      "source": [
        "### Logarithmic\n",
        "\n",
        "The response $y$ is a results of applying logarithmic map from input $x$'s to output variable $y$. It is one of the simplest form of __log()__: i.e. $$ y = \\log(x)$$\n",
        "\n",
        "Please consider that instead of $x$, we can use $X$, which can be polynomial representation of the $x$'s. In general form it would be written as  \n",
        "\\begin{equation}\n",
        "y = \\log(X)\n",
        "\\end{equation}"
      ]
    },
    {
      "cell_type": "code",
      "metadata": {
        "id": "ypuibnsdhqBH",
        "colab_type": "code",
        "colab": {
          "base_uri": "https://localhost:8080/",
          "height": 313
        },
        "outputId": "523a303a-ae47-4c64-e378-a475e21f4566"
      },
      "source": [
        "X = np.arange(-5.0, 5.0, 0.1)\n",
        "\n",
        "Y = np.log(X)\n",
        "\n",
        "plt.plot(X,Y) \n",
        "plt.ylabel('Dependent Variable')\n",
        "plt.xlabel('Indepdendent Variable')\n",
        "plt.show()"
      ],
      "execution_count": 8,
      "outputs": [
        {
          "output_type": "stream",
          "text": [
            "/usr/local/lib/python3.6/dist-packages/ipykernel_launcher.py:3: RuntimeWarning: invalid value encountered in log\n",
            "  This is separate from the ipykernel package so we can avoid doing imports until\n"
          ],
          "name": "stderr"
        },
        {
          "output_type": "display_data",
          "data": {
            "image/png": "[encoded data removed]",
            "text/plain": [
              "<Figure size 432x288 with 1 Axes>"
            ]
          },
          "metadata": {
            "tags": [],
            "needs_background": "light"
          }
        }
      ]
    },
    {
      "cell_type": "markdown",
      "metadata": {
        "id": "PjI9BZkah2B2",
        "colab_type": "text"
      },
      "source": [
        "### Sigmoidal/Logistic\n",
        "\n",
        "$$ Y = a + \\frac{b}{1+ c^{(X-d)}}$$"
      ]
    },
    {
      "cell_type": "code",
      "metadata": {
        "id": "y22uZQLKht-d",
        "colab_type": "code",
        "colab": {}
      },
      "source": [
        "X = np.arange(-5.0, 5.0, 0.1)\n",
        "\n",
        "\n",
        "Y = 1-4/(1+np.power(3, X-2))\n",
        "\n",
        "plt.plot(X,Y) \n",
        "plt.ylabel('Dependent Variable')\n",
        "plt.xlabel('Indepdendent Variable')\n",
        "plt.show()"
      ],
      "execution_count": null,
      "outputs": []
    },
    {
      "cell_type": "markdown",
      "metadata": {
        "id": "Lp4lxydqh6Rm",
        "colab_type": "text"
      },
      "source": [
        "# Non-Linear Regression example\n",
        "\n",
        "For an example, we're going to try and fit a non-linear model to the datapoints corresponding to China's GDP from 1960 to 2014. We download a dataset with two columns, the first, a year between 1960 and 2014, the second, China's corresponding annual gross domestic income in US dollars for that year. "
      ]
    },
    {
      "cell_type": "code",
      "metadata": {
        "id": "UArZk_o0iAI0",
        "colab_type": "code",
        "colab": {
          "base_uri": "https://localhost:8080/",
          "height": 359
        },
        "outputId": "fe636c54-47c1-4330-8d96-1ff88c8db7a7"
      },
      "source": [
        "import numpy as np\n",
        "import pandas as pd\n",
        "\n",
        "df = pd.read_csv(path+\"china_gdp.csv\")\n",
        "df.head(10)"
      ],
      "execution_count": 10,
      "outputs": [
        {
          "output_type": "execute_result",
          "data": {
            "text/html": [
              "<div>\n",
              "<style scoped>\n",
              "    .dataframe tbody tr th:only-of-type {\n",
              "        vertical-align: middle;\n",
              "    }\n",
              "\n",
              "    .dataframe tbody tr th {\n",
              "        vertical-align: top;\n",
              "    }\n",
              "\n",
              "    .dataframe thead th {\n",
              "        text-align: right;\n",
              "    }\n",
              "</style>\n",
              "<table border=\"1\" class=\"dataframe\">\n",
              "  <thead>\n",
              "    <tr style=\"text-align: right;\">\n",
              "      <th></th>\n",
              "      <th>Year</th>\n",
              "      <th>Value</th>\n",
              "    </tr>\n",
              "  </thead>\n",
              "  <tbody>\n",
              "    <tr>\n",
              "      <th>0</th>\n",
              "      <td>1960</td>\n",
              "      <td>5.918412e+10</td>\n",
              "    </tr>\n",
              "    <tr>\n",
              "      <th>1</th>\n",
              "      <td>1961</td>\n",
              "      <td>4.955705e+10</td>\n",
              "    </tr>\n",
              "    <tr>\n",
              "      <th>2</th>\n",
              "      <td>1962</td>\n",
              "      <td>4.668518e+10</td>\n",
              "    </tr>\n",
              "    <tr>\n",
              "      <th>3</th>\n",
              "      <td>1963</td>\n",
              "      <td>5.009730e+10</td>\n",
              "    </tr>\n",
              "    <tr>\n",
              "      <th>4</th>\n",
              "      <td>1964</td>\n",
              "      <td>5.906225e+10</td>\n",
              "    </tr>\n",
              "    <tr>\n",
              "      <th>5</th>\n",
              "      <td>1965</td>\n",
              "      <td>6.970915e+10</td>\n",
              "    </tr>\n",
              "    <tr>\n",
              "      <th>6</th>\n",
              "      <td>1966</td>\n",
              "      <td>7.587943e+10</td>\n",
              "    </tr>\n",
              "    <tr>\n",
              "      <th>7</th>\n",
              "      <td>1967</td>\n",
              "      <td>7.205703e+10</td>\n",
              "    </tr>\n",
              "    <tr>\n",
              "      <th>8</th>\n",
              "      <td>1968</td>\n",
              "      <td>6.999350e+10</td>\n",
              "    </tr>\n",
              "    <tr>\n",
              "      <th>9</th>\n",
              "      <td>1969</td>\n",
              "      <td>7.871882e+10</td>\n",
              "    </tr>\n",
              "  </tbody>\n",
              "</table>\n",
              "</div>"
            ],
            "text/plain": [
              "   Year         Value\n",
              "0  1960  5.918412e+10\n",
              "1  1961  4.955705e+10\n",
              "2  1962  4.668518e+10\n",
              "3  1963  5.009730e+10\n",
              "4  1964  5.906225e+10\n",
              "5  1965  6.970915e+10\n",
              "6  1966  7.587943e+10\n",
              "7  1967  7.205703e+10\n",
              "8  1968  6.999350e+10\n",
              "9  1969  7.871882e+10"
            ]
          },
          "metadata": {
            "tags": []
          },
          "execution_count": 10
        }
      ]
    },
    {
      "cell_type": "markdown",
      "metadata": {
        "id": "fqtFHRkdiXf7",
        "colab_type": "text"
      },
      "source": [
        "### Plotting the Dataset ###\n",
        "This is what the datapoints look like. It kind of looks like an either logistic or exponential function. The growth starts off slow, then from 2005 on forward, the growth is very significant. And finally, it decelerate slightly in the 2010s."
      ]
    },
    {
      "cell_type": "code",
      "metadata": {
        "id": "di3KDlJxiJJ5",
        "colab_type": "code",
        "colab": {
          "base_uri": "https://localhost:8080/",
          "height": 345
        },
        "outputId": "92764398-b806-4d16-ae40-db179aa5f9a7"
      },
      "source": [
        "plt.figure(figsize=(8,5))\n",
        "x_data, y_data = (df[\"Year\"].values, df[\"Value\"].values)\n",
        "plt.plot(x_data, y_data, 'ro')\n",
        "plt.ylabel('GDP')\n",
        "plt.xlabel('Year')\n",
        "plt.show()"
      ],
      "execution_count": 11,
      "outputs": [
        {
          "output_type": "display_data",
          "data": {
            "image/png": "[encoded data removed]",
            "text/plain": [
              "<Figure size 576x360 with 1 Axes>"
            ]
          },
          "metadata": {
            "tags": [],
            "needs_background": "light"
          }
        }
      ]
    },
    {
      "cell_type": "markdown",
      "metadata": {
        "id": "osxsHsJjio_G",
        "colab_type": "text"
      },
      "source": [
        "### Choosing a model ###\n",
        "\n",
        "From an initial look at the plot, we determine that the logistic function could be a good approximation,\n",
        "since it has the property of starting with a slow growth, increasing growth in the middle, and then decreasing again at the end; as illustrated below:"
      ]
    },
    {
      "cell_type": "code",
      "metadata": {
        "id": "5fMYixdRim3M",
        "colab_type": "code",
        "colab": {
          "base_uri": "https://localhost:8080/",
          "height": 279
        },
        "outputId": "5e9c0318-f1ab-491a-9d67-30c1576eeacf"
      },
      "source": [
        "X = np.arange(-5.0, 5.0, 0.1)\n",
        "Y = 1.0 / (1.0 + np.exp(-X))\n",
        "\n",
        "plt.plot(X,Y) \n",
        "plt.ylabel('Dependent Variable')\n",
        "plt.xlabel('Indepdendent Variable')\n",
        "plt.show()"
      ],
      "execution_count": 12,
      "outputs": [
        {
          "output_type": "display_data",
          "data": {
            "image/png": "[encoded data removed]",
            "text/plain": [
              "<Figure size 432x288 with 1 Axes>"
            ]
          },
          "metadata": {
            "tags": [],
            "needs_background": "light"
          }
        }
      ]
    },
    {
      "cell_type": "markdown",
      "metadata": {
        "id": "ycsjy1rii8lA",
        "colab_type": "text"
      },
      "source": [
        "\n",
        "\n",
        "The formula for the logistic function is the following:\n",
        "\n",
        "$$ \\hat{Y} = \\frac1{1+e^{\\beta_1(X-\\beta_2)}}$$\n",
        "\n",
        "$\\beta_1$: Controls the curve's steepness,\n",
        "\n",
        "$\\beta_2$: Slides the curve on the x-axis."
      ]
    },
    {
      "cell_type": "markdown",
      "metadata": {
        "id": "Yrkq8_YMjAgE",
        "colab_type": "text"
      },
      "source": [
        "### Building The Model ###\n",
        "Now, let's build our regression model and initialize its parameters. "
      ]
    },
    {
      "cell_type": "code",
      "metadata": {
        "id": "4sZKZL5Ci1Fn",
        "colab_type": "code",
        "colab": {}
      },
      "source": [
        "def sigmoid(x, Beta_1, Beta_2):\n",
        "  y = 1/(1 + np.exp(-Beta_1*(x- Beta_2)))\n",
        "  return y\n"
      ],
      "execution_count": 15,
      "outputs": []
    },
    {
      "cell_type": "markdown",
      "metadata": {
        "id": "uV89bh7Pj1lk",
        "colab_type": "text"
      },
      "source": [
        "Lets look at a sample sigmoid line that might fit with the data:"
      ]
    },
    {
      "cell_type": "code",
      "metadata": {
        "id": "_elkDZcXjzEP",
        "colab_type": "code",
        "colab": {
          "base_uri": "https://localhost:8080/",
          "height": 293
        },
        "outputId": "096bf673-6655-4cb1-fe44-016bb3d7a21f"
      },
      "source": [
        "beta_1 = 0.10\n",
        "beta_2 = 1990.0\n",
        "\n",
        "#logistic function\n",
        "Y_pred = sigmoid(x_data, beta_1, beta_2)\n",
        "\n",
        "#plot initial prediction against datapoints\n",
        "plt.plot(x_data, Y_pred*15000000000000.)\n",
        "plt.plot(x_data, y_data, 'ro')"
      ],
      "execution_count": 17,
      "outputs": [
        {
          "output_type": "execute_result",
          "data": {
            "text/plain": [
              "[<matplotlib.lines.Line2D at 0x7f1bcc2fe128>]"
            ]
          },
          "metadata": {
            "tags": []
          },
          "execution_count": 17
        },
        {
          "output_type": "display_data",
          "data": {
            "image/png": "[encoded data removed]",
            "text/plain": [
              "<Figure size 432x288 with 1 Axes>"
            ]
          },
          "metadata": {
            "tags": [],
            "needs_background": "light"
          }
        }
      ]
    },
    {
      "cell_type": "markdown",
      "metadata": {
        "id": "2QXr7BI1kRe4",
        "colab_type": "text"
      },
      "source": [
        "Our task here is to find the best parameters for our model. Lets first normalize our x and y:"
      ]
    },
    {
      "cell_type": "code",
      "metadata": {
        "id": "_VNALoImkDgh",
        "colab_type": "code",
        "colab": {}
      },
      "source": [
        "# Lets normalize our data\n",
        "xdata =x_data/max(x_data)\n",
        "ydata =y_data/max(y_data)"
      ],
      "execution_count": 18,
      "outputs": []
    },
    {
      "cell_type": "markdown",
      "metadata": {
        "id": "O7ksY2HDkWc9",
        "colab_type": "text"
      },
      "source": [
        "#### How we find the best parameters for our fit line?\n",
        "we can use __curve_fit__ which uses non-linear least squares to fit our sigmoid function, to data. Optimal values for the parameters so that the sum of the squared residuals of sigmoid(xdata, *popt) - ydata is minimized.\n",
        "\n",
        "popt are our optimized parameters."
      ]
    },
    {
      "cell_type": "code",
      "metadata": {
        "id": "nyXPF439kU64",
        "colab_type": "code",
        "colab": {
          "base_uri": "https://localhost:8080/",
          "height": 34
        },
        "outputId": "8f878aff-e411-4774-bbfb-0bf53ac1c044"
      },
      "source": [
        "from scipy.optimize import curve_fit\n",
        "popt, pcov = curve_fit(sigmoid, xdata, ydata)\n",
        "#print the final parameters\n",
        "print(\" beta_1 = %f, beta_2 = %f\" % (popt[0], popt[1]))"
      ],
      "execution_count": 19,
      "outputs": [
        {
          "output_type": "stream",
          "text": [
            " beta_1 = 690.453017, beta_2 = 0.997207\n"
          ],
          "name": "stdout"
        }
      ]
    },
    {
      "cell_type": "markdown",
      "metadata": {
        "id": "CQrWBLMTksQB",
        "colab_type": "text"
      },
      "source": [
        "Now we plot our resulting regression model."
      ]
    },
    {
      "cell_type": "code",
      "metadata": {
        "id": "vSDlMeKUkqPw",
        "colab_type": "code",
        "colab": {
          "base_uri": "https://localhost:8080/",
          "height": 334
        },
        "outputId": "843f4de5-e404-4810-bcf4-20081c2c2a1a"
      },
      "source": [
        "x = np.linspace(1960, 2015, 55)\n",
        "x = x/max(x)\n",
        "plt.figure(figsize=(8,5))\n",
        "y = sigmoid(x, *popt)\n",
        "plt.plot(xdata, ydata, 'ro', label='data')\n",
        "plt.plot(x,y, linewidth=3.0, label='fit')\n",
        "plt.legend(loc='best')\n",
        "plt.ylabel('GDP')\n",
        "plt.xlabel('Year')\n",
        "plt.show()"
      ],
      "execution_count": 20,
      "outputs": [
        {
          "output_type": "display_data",
          "data": {
            "image/png": "[encoded data removed]",
            "text/plain": [
              "<Figure size 576x360 with 1 Axes>"
            ]
          },
          "metadata": {
            "tags": [],
            "needs_background": "light"
          }
        }
      ]
    },
    {
      "cell_type": "markdown",
      "metadata": {
        "id": "BxmyjlqOoGNa",
        "colab_type": "text"
      },
      "source": [
        "###accuracy of the model"
      ]
    },
    {
      "cell_type": "code",
      "metadata": {
        "id": "xxVuxj-PktiH",
        "colab_type": "code",
        "colab": {}
      },
      "source": [
        "# split data into train/test\n",
        "msk = np.random.rand(len(df)) < 0.8\n",
        "train_x = xdata[msk]\n",
        "test_x = xdata[~msk]\n",
        "train_y = ydata[msk]\n",
        "test_y = ydata[~msk]"
      ],
      "execution_count": 25,
      "outputs": []
    },
    {
      "cell_type": "code",
      "metadata": {
        "id": "6e0yKTVElZyQ",
        "colab_type": "code",
        "colab": {}
      },
      "source": [
        "# build the model using train set\n",
        "popt, pcov = curve_fit(sigmoid, train_x, train_y)"
      ],
      "execution_count": 26,
      "outputs": []
    },
    {
      "cell_type": "code",
      "metadata": {
        "id": "KNy3O7xvlv4T",
        "colab_type": "code",
        "colab": {}
      },
      "source": [
        "# predict using test set\n",
        "y_hat = sigmoid(test_x, *popt)"
      ],
      "execution_count": 27,
      "outputs": []
    },
    {
      "cell_type": "code",
      "metadata": {
        "id": "DX5PJm9mmKf7",
        "colab_type": "code",
        "colab": {
          "base_uri": "https://localhost:8080/",
          "height": 68
        },
        "outputId": "e4d135e6-82fb-4e39-ff43-e2cdc62bc2b4"
      },
      "source": [
        "# evaluation\n",
        "print(\"Mean absolute error: %.2f\" % np.mean(np.absolute(y_hat - test_y)))\n",
        "print(\"Residual sum of squares (MSE): %.2f\" % np.mean((y_hat - test_y) ** 2))\n",
        "from sklearn.metrics import r2_score\n",
        "print(\"R2-score: %.2f\" % r2_score(y_hat , test_y) )"
      ],
      "execution_count": 28,
      "outputs": [
        {
          "output_type": "stream",
          "text": [
            "Mean absolute error: 0.02\n",
            "Residual sum of squares (MSE): 0.00\n",
            "R2-score: 0.61\n"
          ],
          "name": "stdout"
        }
      ]
    },
    {
      "cell_type": "code",
      "metadata": {
        "id": "bvHipwzBmNXR",
        "colab_type": "code",
        "colab": {}
      },
      "source": [
        ""
      ],
      "execution_count": null,
      "outputs": []
    }
  ]
}